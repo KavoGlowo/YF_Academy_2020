{
 "cells": [
  {
   "cell_type": "markdown",
   "metadata": {},
   "source": [
    "### If Else"
   ]
  },
  {
   "cell_type": "code",
   "execution_count": null,
   "metadata": {},
   "outputs": [],
   "source": [
    "a = 33\n",
    "b = 33\n",
    "\n",
    "# if b is not equal to a\n",
    "if b != a:\n",
    "    print('nay')\n",
    "\n",
    "# if b equals a\n",
    "elif b == a:\n",
    "    print('yay')\n",
    "\n",
    "\n",
    "\n"
   ]
  },
  {
   "cell_type": "code",
   "execution_count": null,
   "metadata": {},
   "outputs": [],
   "source": [
    "class myclass:\n",
    "    x = 2"
   ]
  },
  {
   "cell_type": "code",
   "execution_count": null,
   "metadata": {},
   "outputs": [],
   "source": [
    "object_1 = myclass()"
   ]
  },
  {
   "cell_type": "code",
   "execution_count": null,
   "metadata": {},
   "outputs": [],
   "source": [
    "object_1.x"
   ]
  },
  {
   "cell_type": "code",
   "execution_count": null,
   "metadata": {},
   "outputs": [],
   "source": [
    "a = myclass()\n",
    "b = 5\n",
    "    "
   ]
  },
  {
   "cell_type": "code",
   "execution_count": null,
   "metadata": {},
   "outputs": [],
   "source": [
    "if a.x == 2:\n",
    "    print('2')\n",
    "elif a.x == 3:\n",
    "    print('3')"
   ]
  },
  {
   "cell_type": "code",
   "execution_count": null,
   "metadata": {},
   "outputs": [],
   "source": [
    "a = 33\n",
    "b = 33\n",
    "if b > a:\n",
    "  print(\"b is greater than a\")\n",
    "elif a == b:\n",
    "  print(\"a and b are equal\")"
   ]
  },
  {
   "cell_type": "code",
   "execution_count": null,
   "metadata": {},
   "outputs": [],
   "source": [
    "a = 3\n",
    "b = 3.0\n",
    "if a != b:\n",
    "    print(\"a and b are equal\")\n",
    "elif b <= a:\n",
    "    print(\"b is less than or equal to a\")\n",
    "else:\n",
    "    print(\"a is greater than b\")"
   ]
  },
  {
   "cell_type": "code",
   "execution_count": null,
   "metadata": {},
   "outputs": [],
   "source": [
    "L = [1,2,3,4,5]\n",
    "\n",
    "if 6 in L:\n",
    "    print(True)\n"
   ]
  },
  {
   "cell_type": "code",
   "execution_count": null,
   "metadata": {},
   "outputs": [],
   "source": [
    "#a = 'moose'\n",
    "a = [1,11]\n",
    "#b = 'moose'\n",
    "b = [2,22]\n",
    "#c = 'gooose'\n",
    "c = [3,33]"
   ]
  },
  {
   "cell_type": "code",
   "execution_count": null,
   "metadata": {},
   "outputs": [],
   "source": [
    "if len(a) == len(c):\n",
    "    print('goose')\n",
    "elif len(a) == len(b):\n",
    "    print('moose')"
   ]
  },
  {
   "cell_type": "code",
   "execution_count": null,
   "metadata": {},
   "outputs": [],
   "source": [
    "t = [55]\n",
    "b = 'butler'\n",
    "\n",
    "c = 'John Smith'\n"
   ]
  },
  {
   "cell_type": "code",
   "execution_count": null,
   "metadata": {},
   "outputs": [],
   "source": [
    "first_name = c[:4]\n",
    "print(first_name)"
   ]
  },
  {
   "cell_type": "code",
   "execution_count": null,
   "metadata": {},
   "outputs": [],
   "source": [
    "number_of_pretzels = 33\n",
    "b = 330\n",
    "print(\"A\") if number_of_pretzels > b else print(\"=\") if number_of_pretzels == b else print(\"B\")"
   ]
  },
  {
   "cell_type": "code",
   "execution_count": null,
   "metadata": {},
   "outputs": [],
   "source": [
    "# using and\n",
    "a = 200\n",
    "b = 33\n",
    "c = 500\n",
    "d = 50\n",
    "if (a > b or c < b) and (c < a or b > c):\n",
    "    print(\"True\")\n",
    "else:\n",
    "    print('not true')"
   ]
  },
  {
   "cell_type": "code",
   "execution_count": null,
   "metadata": {},
   "outputs": [],
   "source": [
    "# using or\n",
    "a = 200\n",
    "b = 33\n",
    "c = 500\n",
    "if a < b or b > c or b < c:\n",
    "    print(\"At least one of the conditions is True\")\n"
   ]
  },
  {
   "cell_type": "code",
   "execution_count": null,
   "metadata": {},
   "outputs": [],
   "source": [
    "# nested if statements\n",
    "x = 400\n",
    "\n",
    "if x < 10:\n",
    "    print('hello')\n",
    "    print(\"Above ten,\")\n",
    "    if x > 20:\n",
    "        print(\"and also above 20!\")\n",
    "    elif x > 30:\n",
    "        print('is greater than 30')\n",
    "\n",
    "elif x > 100:\n",
    "    print('do some things')\n",
    "        \n"
   ]
  },
  {
   "cell_type": "markdown",
   "metadata": {},
   "source": [
    "### For Loops"
   ]
  },
  {
   "cell_type": "code",
   "execution_count": 3,
   "metadata": {},
   "outputs": [
    {
     "name": "stdout",
     "output_type": "stream",
     "text": [
      "Correct\n",
      "Try again\n",
      "You won\n",
      "You Lost\n"
     ]
    }
   ],
   "source": [
    "fruits = [\"apple\", \"banana\", \"cherry\", 'blueberry']\n",
    "for x in fruits:\n",
    "    print(x)"
   ]
  },
  {
   "cell_type": "code",
   "execution_count": 2,
   "metadata": {},
   "outputs": [
    {
     "name": "stdout",
     "output_type": "stream",
     "text": [
      "b\n",
      "---\n",
      "a\n",
      "---\n",
      "n\n",
      "---\n",
      "a\n",
      "---\n",
      "n\n",
      "---\n",
      "a\n",
      "---\n"
     ]
    }
   ],
   "source": [
    "for x in \"banana\":\n",
    "    print(x)\n",
    "    print('---')"
   ]
  },
  {
   "cell_type": "code",
   "execution_count": 4,
   "metadata": {},
   "outputs": [
    {
     "name": "stdout",
     "output_type": "stream",
     "text": [
      "apple\n",
      "apricot\n"
     ]
    }
   ],
   "source": [
    "# using break statment\n",
    "fruits = [\"apple\", \"apricot\",\"banana\", \"cherry\"]\n",
    "for x in fruits:\n",
    "    if x == \"banana\":\n",
    "        break\n",
    "    print(x)"
   ]
  },
  {
   "cell_type": "code",
   "execution_count": 5,
   "metadata": {},
   "outputs": [
    {
     "name": "stdout",
     "output_type": "stream",
     "text": [
      "apple\n",
      "apricot\n",
      "cherry\n"
     ]
    }
   ],
   "source": [
    "# using continue:\n",
    "Hangman = [\"Correct\", \"Try Again\",You Won \"\", \"You Lost\"]\n",
    "for x in fruits:\n",
    "    if x == \"banana\":\n",
    "        continue\n",
    "    print(x)\n",
    "    if x == 'banana':\n",
    "        print('found!')"
   ]
  },
  {
   "cell_type": "code",
   "execution_count": null,
   "metadata": {},
   "outputs": [],
   "source": [
    "Hangman = [\"Correct\", \"Try Again\", \"\", \"cherry\"]\n",
    "print(fruits[0])"
   ]
  },
  {
   "cell_type": "code",
   "execution_count": null,
   "metadata": {},
   "outputs": [],
   "source": [
    "ll = ['r','t','y','q','e','z','v']\n",
    "qq = [0,1,2,3,4,5,6]"
   ]
  },
  {
   "cell_type": "code",
   "execution_count": null,
   "metadata": {},
   "outputs": [],
   "source": [
    "print(len(ll))\n",
    "print(len(qq))"
   ]
  },
  {
   "cell_type": "code",
   "execution_count": null,
   "metadata": {},
   "outputs": [],
   "source": [
    "for x in ll:\n",
    "    print(x)\n",
    "    print(type(x))\n",
    "    print('_____')"
   ]
  },
  {
   "cell_type": "code",
   "execution_count": null,
   "metadata": {},
   "outputs": [],
   "source": [
    "for x in range(len(ll)):\n",
    "    print('the index value is: ', x)\n",
    "    print(type(x))\n",
    "    print('the actual list element is: ', ll[x])\n",
    "    print('_____')"
   ]
  },
  {
   "cell_type": "code",
   "execution_count": 10,
   "metadata": {},
   "outputs": [
    {
     "name": "stdout",
     "output_type": "stream",
     "text": [
      "red $\n",
      "apple *\n",
      "banana *\n",
      "cherry *\n",
      "big $\n",
      "apple *\n",
      "banana *\n",
      "cherry *\n",
      "tasty $\n",
      "apple *\n",
      "banana *\n",
      "cherry *\n"
     ]
    }
   ],
   "source": [
    "# nested loops\n",
    "adj = [\"red\", \"big\", \"tasty\"]\n",
    "fruits = [\"apple\", \"banana\", \"cherry\"]\n",
    "\n",
    "for x in adj:\n",
    "    print(x, '$')\n",
    "    for y in fruits:\n",
    "        print(y, '*')\n"
   ]
  },
  {
   "cell_type": "markdown",
   "metadata": {},
   "source": [
    "### While Loops"
   ]
  },
  {
   "cell_type": "code",
   "execution_count": 13,
   "metadata": {},
   "outputs": [
    {
     "name": "stdout",
     "output_type": "stream",
     "text": [
      "1\n",
      "new i:  2\n",
      "2\n",
      "new i:  3\n",
      "3\n",
      "new i:  4\n",
      "4\n",
      "new i:  5\n",
      "5\n",
      "new i:  6\n",
      "6\n",
      "new i:  7\n"
     ]
    }
   ],
   "source": [
    "i = 1\n",
    "while i <= 6:\n",
    "    print(i)\n",
    "    #i = i + 1"
   ]
  },
  {
   "cell_type": "code",
   "execution_count": null,
   "metadata": {},
   "outputs": [],
   "source": [
    "# using break\n",
    "i = 1\n",
    "while i < 6:\n",
    "  print(i)\n",
    "  if i == 3:\n",
    "    break\n",
    "  i += 1"
   ]
  },
  {
   "cell_type": "code",
   "execution_count": null,
   "metadata": {},
   "outputs": [],
   "source": [
    "# using break\n",
    "n = 5\n",
    "while n > 0:\n",
    "    n -= 1\n",
    "    if n == 2:\n",
    "        break\n",
    "    print(n)\n",
    "print('Loop ended.')"
   ]
  },
  {
   "cell_type": "code",
   "execution_count": null,
   "metadata": {},
   "outputs": [],
   "source": [
    "# using continue\n",
    "i = 0\n",
    "while i < 6:\n",
    "  i += 1\n",
    "  if i == 3:\n",
    "    continue\n",
    "  print(i)"
   ]
  },
  {
   "cell_type": "code",
   "execution_count": null,
   "metadata": {},
   "outputs": [],
   "source": [
    "# using continue\n",
    "n = 5\n",
    "while n > 0:\n",
    "    n -= 1\n",
    "    if n == 2:\n",
    "        continue\n",
    "    print(n)\n",
    "print('Loop ended.')"
   ]
  },
  {
   "cell_type": "code",
   "execution_count": null,
   "metadata": {},
   "outputs": [],
   "source": [
    "# combine with else\n",
    "i = 1\n",
    "while i < 6:\n",
    "  print(i)\n",
    "  i += 1\n",
    "else:\n",
    "  print(\"i is no longer less than 6\")"
   ]
  },
  {
   "cell_type": "code",
   "execution_count": null,
   "metadata": {},
   "outputs": [],
   "source": [
    "# nested while loops\n",
    "\n",
    "i = 1\n",
    "j = 5\n",
    "while i < 4:\n",
    "    while j < 8:\n",
    "        print(i, \",\", j)\n",
    "        j = j + 1\n",
    "        i = i + 1"
   ]
  },
  {
   "cell_type": "code",
   "execution_count": null,
   "metadata": {},
   "outputs": [],
   "source": [
    "a = ['fox', 'bear', 'bat', 'quail']\n",
    "s = 'cow'\n",
    "\n",
    "i = 0\n",
    "while i < len(a):\n",
    "     if a[i] == s:\n",
    "         # Processing for item found\n",
    "         break\n",
    "     i += 1\n",
    "else:\n",
    " # Processing for item not found\n",
    "    print(s, 'not found in list.')"
   ]
  },
  {
   "cell_type": "code",
   "execution_count": null,
   "metadata": {},
   "outputs": [],
   "source": []
  },
  {
   "cell_type": "markdown",
   "metadata": {},
   "source": [
    "### Practice & Play!"
   ]
  },
  {
   "cell_type": "code",
   "execution_count": null,
   "metadata": {},
   "outputs": [],
   "source": [
    "#importing the time module\n",
    "import time\n",
    "\n",
    "#welcoming the user\n",
    "name = input(\"What is your name? \")\n",
    "\n",
    "print(\"Hello, \", name, \" Time to play hangman!\")\n",
    "\n",
    "print('')\n",
    "\n",
    "#wait for 1 second\n",
    "time.sleep(1)\n",
    "\n",
    "print(\"Start guessing...\")\n",
    "time.sleep(0.5)\n",
    "\n",
    "#here we set the secret\n",
    "word = \"secret\"\n",
    "\n",
    "#creates an variable with an empty value\n",
    "guesses = ''\n",
    "\n",
    "#determine the number of turns\n",
    "turns = 10\n",
    "\n",
    "# Create a while loop\n",
    "\n",
    "#check if the turns are more than zero\n",
    "while turns > 0:         \n",
    "\n",
    "    # make a counter that starts with zero\n",
    "    failed = 0             \n",
    "\n",
    "    # for every character in secret_word    \n",
    "    for char in word:      \n",
    "    # see if the character is in the players guess\n",
    "        if char in guesses:    \n",
    "        # print then out the character\n",
    "            print(char)    \n",
    "\n",
    "        else:\n",
    "        # if not found, print a dash\n",
    "            print(\"_\")    \n",
    "        # and increase the failed counter with one\n",
    "            failed += 1    \n",
    "\n",
    "    # if failed is equal to zero\n",
    "\n",
    "    # print You Won\n",
    "    if failed == 0:        \n",
    "        print(\"You won\")  \n",
    "\n",
    "    # exit the script\n",
    "        break              \n",
    "\n",
    "    print('')\n",
    "\n",
    "    # ask the user go guess a character\n",
    "    guess = input(\"guess a character:\") \n",
    "\n",
    "    # set the players guess to guesses\n",
    "    guesses += guess                    \n",
    "\n",
    "    # if the guess is not found in the secret word\n",
    "    if guess not in word:  \n",
    " \n",
    "     # turns counter decreases with 1 (now 9)\n",
    "        turns -= 1        \n",
    " \n",
    "    # print wrong\n",
    "        print(\"Wrong\")    \n",
    " \n",
    "    # how many turns are left\n",
    "        print(\"You have \", turns, ' more guesses' )\n",
    " \n",
    "    # if the turns are equal to zero\n",
    "        if turns == 0:           \n",
    "    \n",
    "        # print \"You Lose\"\n",
    "            print(\"You Lose\")  "
   ]
  },
  {
   "cell_type": "code",
   "execution_count": null,
   "metadata": {},
   "outputs": [],
   "source": []
  }
 ],
 "metadata": {
  "kernelspec": {
   "display_name": "Python 3",
   "language": "python",
   "name": "python3"
  },
  "language_info": {
   "codemirror_mode": {
    "name": "ipython",
    "version": 3
   },
   "file_extension": ".py",
   "mimetype": "text/x-python",
   "name": "python",
   "nbconvert_exporter": "python",
   "pygments_lexer": "ipython3",
   "version": "3.7.4"
  }
 },
 "nbformat": 4,
 "nbformat_minor": 2
}
